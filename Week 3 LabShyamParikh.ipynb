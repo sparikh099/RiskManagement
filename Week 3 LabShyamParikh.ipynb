{
 "cells": [
  {
   "cell_type": "markdown",
   "metadata": {},
   "source": [
    "<h1 style=\"color:Green;\">Week 3 Lab - due by 24th July, 2022 (11:59 pm CDT )</h1> "
   ]
  },
  {
   "cell_type": "markdown",
   "metadata": {},
   "source": [
    "<a style=\"color:purple;\" href=\"https://docs.google.com/presentation/d/1_n1rKmuN1fnPN-HWJTYn4zPI4bsTCCEGI8HsmDpRSkc/edit#slide=id.g11b032e97d3_0_0\">[Week 3 Lecture Link Here]</a>"
   ]
  },
  {
   "cell_type": "markdown",
   "metadata": {},
   "source": [
    "<h2 style=\"color:black;\"> Objective: to implement machine learning methods and models on regression problems</h2> "
   ]
  },
  {
   "cell_type": "markdown",
   "metadata": {},
   "source": [
    "<h2 style=\"color:Green;\">Setup and Loading Packages</h2> Setup and Loading Packages"
   ]
  },
  {
   "cell_type": "code",
   "execution_count": 283,
   "metadata": {
    "ExecuteTime": {
     "end_time": "2021-04-16T00:08:32.172640Z",
     "start_time": "2021-04-16T00:08:31.635143Z"
    }
   },
   "outputs": [],
   "source": [
    "%matplotlib inline\n",
    "\n",
    "import numpy as np\n",
    "import pandas as pd\n",
    "\n",
    "import matplotlib.pyplot as plt\n",
    "import seaborn as sns\n",
    "\n",
    "from sklearn.preprocessing import scale\n",
    "from sklearn.model_selection import train_test_split\n",
    "\n",
    "import statsmodels.api as sm\n",
    "from sklearn.preprocessing import StandardScaler\n",
    "import pandas_datareader as pdr\n",
    "\n",
    "from sklearn.ensemble import RandomForestRegressor\n",
    "from statsmodels.stats.outliers_influence import variance_inflation_factor\n",
    "\n",
    "from sklearn.linear_model import LinearRegression, RidgeCV, LassoCV\n",
    "from sklearn.metrics import mean_absolute_error, mean_squared_error, r2_score"
   ]
  },
  {
   "cell_type": "markdown",
   "metadata": {},
   "source": [
    "<h2 style=\"color:Green;\">Problem 1: Real GDP Growth Rate Predictions by Country</h2><br/>"
   ]
  },
  {
   "cell_type": "markdown",
   "metadata": {},
   "source": [
    "Gross Domestic Products (GDP) growth has been a hot topic in macroeconomics and an economist on your team needs your help to uncover its implications from a statistical learning perspective. The economist gathered some data from the U.S. Bureau of Economic Analysis (BEA) and OECD’s Composite Leading Indicators (CLIs) repositories. The U.S. BEA stores macro and micro-economic measures on a multinational level as the OECD CLIs screens the conditions that dictates the economic booms and busts of OECD countries. <br><br>\n",
    "\n",
    "4 indictors are gathered from each of the 10 selected OECD countries: monthly real income, employment, industrial production, and wholesale-retail sales. The countries include the United States, United Kingdom, Netherlands, Luxembourg, Japan, Korea, Germany, France, Denmark, and Canada. The indicators are collected over the past 240 months (20 years), from October 1999 to September 2019, so there is a total of 2400 observations. <br><br>\n",
    "\n",
    "The economist wants to examine the predictive power of these features in a linear model that forecasts the real Gross Domestic Products (GDP) growth rate for each country. \n",
    "\n",
    "<p style=\"color:red;\">PLEASE DO NOT CHANGE THIS CODE !!!</p>"
   ]
  },
  {
   "cell_type": "code",
   "execution_count": 284,
   "metadata": {},
   "outputs": [
    {
     "name": "stdout",
     "output_type": "stream",
     "text": [
      "<class 'pandas.core.frame.DataFrame'>\n",
      "Index: 2399 entries, 11/1/1999 to 9/1/2019\n",
      "Data columns (total 6 columns):\n",
      " #   Column       Non-Null Count  Dtype  \n",
      "---  ------       --------------  -----  \n",
      " 0   Country      2399 non-null   object \n",
      " 1   realGDP      2399 non-null   float64\n",
      " 2   realPersInc  2399 non-null   float64\n",
      " 3   unempRate    2399 non-null   float64\n",
      " 4   indProd      2399 non-null   float64\n",
      " 5   retailSales  2399 non-null   float64\n",
      "dtypes: float64(5), object(1)\n",
      "memory usage: 131.2+ KB\n"
     ]
    }
   ],
   "source": [
    "# loading the csv data set from local directory\n",
    "OECD = pd.read_csv('OECD_DATA.csv'); OECD = OECD.set_index('Date')\n",
    "# converting real GDP index to growth rate (we do not take the log this time)\n",
    "OECD['realGDP'] = OECD['realGDP'].pct_change()\n",
    "# drop NaN values\n",
    "OECD = OECD.dropna()\n",
    "OECD.info()"
   ]
  },
  {
   "cell_type": "markdown",
   "metadata": {},
   "source": [
    "a) Based on the economist's specified problem, please identify the explanatory and response variables in the data set."
   ]
  },
  {
   "cell_type": "markdown",
   "metadata": {},
   "source": [
    "The explanatory variables in this dataset are the different features used to predict the response variable. The different features in this dataset are the monthly real income, employment, industrial production, and wholesale-retail sales.\n",
    "\n",
    "The response variable in this dataset is the real Gross Domestic Products growth rate for each country. We would like to forecast the real GDP growth rate for all of the countries that are being observed.  "
   ]
  },
  {
   "cell_type": "markdown",
   "metadata": {},
   "source": [
    "b) To make sure the units of the features are aligned, please standardize the numerical features. (Note we cannot standardize categorical features)"
   ]
  },
  {
   "cell_type": "code",
   "execution_count": 285,
   "metadata": {},
   "outputs": [],
   "source": [
    "################ EDIT CODE LINES HERE #################\n",
    "FEATURES = OECD.columns[2:]# gets the different Features,Explanatory Variables\n",
    "# Features starts from 2 and not 1 because country is a categorical variable and realGDP is the response variable\n",
    "OECD.loc[:, FEATURES] = scale(OECD.loc[:, FEATURES]) # standardizing indicators\n",
    "\n",
    "#####################################################"
   ]
  },
  {
   "cell_type": "markdown",
   "metadata": {},
   "source": [
    "c) Notice that since the Country variable is a categoirical variable, we need to use some kind of numeric indicator to replace the string values in that column. We use dummy variables. A dummy variable is a binary variable that indicates whether a separate categorical variable takes on a specific value. For example, we will add 9 columns  to the data set and name column by the syntax 'Country_[country name]'. Each column will only take on the values 0 or 1; 0 represents that the observation on that row does not belong to the country and 1 represents that the observation on that row belongs to the country. For example, the rows where the Country value is USA' will have the Country_USA column being 1, and the Country_Denmark, Country_France, and so on columns being 0. <br><br>\n",
    "\n",
    "You may ask why we added 9 columns when there are 10 countries in our original data set. This is because when all 9 dummy variables are set to 0, the regression output will represent the result for the country that doesn't have its own added column. <br><br>\n",
    "\n",
    "Read this blog for more details: https://abbynyakara.medium.com/dummy-variables-in-machine-learning-b3991367bd59\n",
    "<p style=\"color:red;\">PLEASE DO NOT CHANGE THIS CODE !!!</p>"
   ]
  },
  {
   "cell_type": "code",
   "execution_count": 286,
   "metadata": {},
   "outputs": [
    {
     "data": {
      "text/html": [
       "<div>\n",
       "<style scoped>\n",
       "    .dataframe tbody tr th:only-of-type {\n",
       "        vertical-align: middle;\n",
       "    }\n",
       "\n",
       "    .dataframe tbody tr th {\n",
       "        vertical-align: top;\n",
       "    }\n",
       "\n",
       "    .dataframe thead th {\n",
       "        text-align: right;\n",
       "    }\n",
       "</style>\n",
       "<table border=\"1\" class=\"dataframe\">\n",
       "  <thead>\n",
       "    <tr style=\"text-align: right;\">\n",
       "      <th></th>\n",
       "      <th>realGDP</th>\n",
       "      <th>realPersInc</th>\n",
       "      <th>unempRate</th>\n",
       "      <th>indProd</th>\n",
       "      <th>retailSales</th>\n",
       "      <th>Country_Denmark</th>\n",
       "      <th>Country_France</th>\n",
       "      <th>Country_Germany</th>\n",
       "      <th>Country_Japan</th>\n",
       "      <th>Country_Korea</th>\n",
       "      <th>Country_Luxembourg</th>\n",
       "      <th>Country_Netherlands</th>\n",
       "      <th>Country_UK</th>\n",
       "      <th>Country_USA</th>\n",
       "    </tr>\n",
       "    <tr>\n",
       "      <th>Date</th>\n",
       "      <th></th>\n",
       "      <th></th>\n",
       "      <th></th>\n",
       "      <th></th>\n",
       "      <th></th>\n",
       "      <th></th>\n",
       "      <th></th>\n",
       "      <th></th>\n",
       "      <th></th>\n",
       "      <th></th>\n",
       "      <th></th>\n",
       "      <th></th>\n",
       "      <th></th>\n",
       "      <th></th>\n",
       "    </tr>\n",
       "  </thead>\n",
       "  <tbody>\n",
       "    <tr>\n",
       "      <th>11/1/1999</th>\n",
       "      <td>0.000988</td>\n",
       "      <td>1.796302</td>\n",
       "      <td>-0.821803</td>\n",
       "      <td>-0.808932</td>\n",
       "      <td>-0.384360</td>\n",
       "      <td>0</td>\n",
       "      <td>0</td>\n",
       "      <td>0</td>\n",
       "      <td>0</td>\n",
       "      <td>0</td>\n",
       "      <td>0</td>\n",
       "      <td>0</td>\n",
       "      <td>0</td>\n",
       "      <td>1</td>\n",
       "    </tr>\n",
       "    <tr>\n",
       "      <th>12/1/1999</th>\n",
       "      <td>0.000691</td>\n",
       "      <td>1.775151</td>\n",
       "      <td>-0.871149</td>\n",
       "      <td>-0.748722</td>\n",
       "      <td>-0.286125</td>\n",
       "      <td>0</td>\n",
       "      <td>0</td>\n",
       "      <td>0</td>\n",
       "      <td>0</td>\n",
       "      <td>0</td>\n",
       "      <td>0</td>\n",
       "      <td>0</td>\n",
       "      <td>0</td>\n",
       "      <td>1</td>\n",
       "    </tr>\n",
       "    <tr>\n",
       "      <th>1/1/2000</th>\n",
       "      <td>0.000592</td>\n",
       "      <td>1.769032</td>\n",
       "      <td>-0.871149</td>\n",
       "      <td>-0.746977</td>\n",
       "      <td>-0.346280</td>\n",
       "      <td>0</td>\n",
       "      <td>0</td>\n",
       "      <td>0</td>\n",
       "      <td>0</td>\n",
       "      <td>0</td>\n",
       "      <td>0</td>\n",
       "      <td>0</td>\n",
       "      <td>0</td>\n",
       "      <td>1</td>\n",
       "    </tr>\n",
       "    <tr>\n",
       "      <th>2/1/2000</th>\n",
       "      <td>0.000591</td>\n",
       "      <td>1.769869</td>\n",
       "      <td>-0.821803</td>\n",
       "      <td>-0.723416</td>\n",
       "      <td>-0.288399</td>\n",
       "      <td>0</td>\n",
       "      <td>0</td>\n",
       "      <td>0</td>\n",
       "      <td>0</td>\n",
       "      <td>0</td>\n",
       "      <td>0</td>\n",
       "      <td>0</td>\n",
       "      <td>0</td>\n",
       "      <td>1</td>\n",
       "    </tr>\n",
       "    <tr>\n",
       "      <th>3/1/2000</th>\n",
       "      <td>0.000690</td>\n",
       "      <td>1.764942</td>\n",
       "      <td>-0.871149</td>\n",
       "      <td>-0.695493</td>\n",
       "      <td>-0.261159</td>\n",
       "      <td>0</td>\n",
       "      <td>0</td>\n",
       "      <td>0</td>\n",
       "      <td>0</td>\n",
       "      <td>0</td>\n",
       "      <td>0</td>\n",
       "      <td>0</td>\n",
       "      <td>0</td>\n",
       "      <td>1</td>\n",
       "    </tr>\n",
       "  </tbody>\n",
       "</table>\n",
       "</div>"
      ],
      "text/plain": [
       "            realGDP  realPersInc  unempRate   indProd  retailSales  \\\n",
       "Date                                                                 \n",
       "11/1/1999  0.000988     1.796302  -0.821803 -0.808932    -0.384360   \n",
       "12/1/1999  0.000691     1.775151  -0.871149 -0.748722    -0.286125   \n",
       "1/1/2000   0.000592     1.769032  -0.871149 -0.746977    -0.346280   \n",
       "2/1/2000   0.000591     1.769869  -0.821803 -0.723416    -0.288399   \n",
       "3/1/2000   0.000690     1.764942  -0.871149 -0.695493    -0.261159   \n",
       "\n",
       "           Country_Denmark  Country_France  Country_Germany  Country_Japan  \\\n",
       "Date                                                                         \n",
       "11/1/1999                0               0                0              0   \n",
       "12/1/1999                0               0                0              0   \n",
       "1/1/2000                 0               0                0              0   \n",
       "2/1/2000                 0               0                0              0   \n",
       "3/1/2000                 0               0                0              0   \n",
       "\n",
       "           Country_Korea  Country_Luxembourg  Country_Netherlands  Country_UK  \\\n",
       "Date                                                                            \n",
       "11/1/1999              0                   0                    0           0   \n",
       "12/1/1999              0                   0                    0           0   \n",
       "1/1/2000               0                   0                    0           0   \n",
       "2/1/2000               0                   0                    0           0   \n",
       "3/1/2000               0                   0                    0           0   \n",
       "\n",
       "           Country_USA  \n",
       "Date                    \n",
       "11/1/1999            1  \n",
       "12/1/1999            1  \n",
       "1/1/2000             1  \n",
       "2/1/2000             1  \n",
       "3/1/2000             1  "
      ]
     },
     "execution_count": 286,
     "metadata": {},
     "output_type": "execute_result"
    }
   ],
   "source": [
    "# declaring dummy variables based on the Country column\n",
    "OECD = pd.get_dummies(data=OECD, drop_first=True)\n",
    "# update the FEATURES variable\n",
    "FEATURES = OECD.columns[1:]\n",
    "# display top rows of the new data set\n",
    "OECD.head()"
   ]
  },
  {
   "cell_type": "markdown",
   "metadata": {},
   "source": [
    "Please run the above code chunk an observe that the new columns are added to the original data frame to represent the dummy variables. <br><br>\n",
    "Now, please write a code piece to split the data into 75% training and 25% testing sets."
   ]
  },
  {
   "cell_type": "code",
   "execution_count": 287,
   "metadata": {},
   "outputs": [],
   "source": [
    "################ EDIT CODE LINES HERE #################\n",
    "RESPONSE = OECD.columns[0]\n",
    "X_train, X_test, y_train, y_test = train_test_split(OECD.loc[:, FEATURES], OECD.loc[:, RESPONSE], test_size=0.25, random_state=0)\n",
    "######################################################"
   ]
  },
  {
   "cell_type": "markdown",
   "metadata": {},
   "source": [
    "d) We are told by the economist that all the features are very important predictors for the GDP growth rate, and hence, we will take his words and skip the exploration of importance scores. He also mentions that there is no multicollinearity based on his initial analysis. <br><br> \n",
    "Please validate the economist's statements, in other words, show that:\n",
    "<ul>\n",
    "  <li>All the features (excluding the dummy variables) are important</li>\n",
    "  <li>No multicollinearity exists between features </li>\n",
    "</ul>\n",
    "To respect the economist's claims, please DO NOT drop any features. (Hint: the dummy variables should not be significant, but keep them because we need them to make predictions for each country)"
   ]
  },
  {
   "cell_type": "markdown",
   "metadata": {},
   "source": [
    "<i>Test feature importance here:</i>"
   ]
  },
  {
   "cell_type": "code",
   "execution_count": 289,
   "metadata": {},
   "outputs": [
    {
     "data": {
      "text/plain": [
       "Text(0.5, 0, 'Relative Importance')"
      ]
     },
     "execution_count": 289,
     "metadata": {},
     "output_type": "execute_result"
    },
    {
     "data": {
      "image/png": "[encoded data removed]",
      "text/plain": [
       "<Figure size 432x288 with 1 Axes>"
      ]
     },
     "metadata": {
      "needs_background": "light"
     },
     "output_type": "display_data"
    }
   ],
   "source": [
    "################ EDIT CODE LINES HERE #################\n",
    "from sklearn.ensemble import RandomForestRegressor # importing the random forest module\n",
    "rf_model = RandomForestRegressor(random_state=0) # define the random forest model\n",
    "rf_model.fit(X_train, y_train) # fit the random forest model\n",
    "importances = rf_model.feature_importances_ # get importance\n",
    "indices = np.argsort(importances) # sort the features' index by their importance scores\n",
    "plt.title('Feature Importances in the Random Forest Model')\n",
    "plt.barh(range(len(indices)), importances[indices], align='center')\n",
    "plt.yticks(range(len(indices)), [FEATURES[i] for i in indices])\n",
    "plt.xlabel('Relative Importance')\n",
    "######################################################"
   ]
  },
  {
   "cell_type": "markdown",
   "metadata": {},
   "source": [
    "<i>Test multicolinearity here:</i>"
   ]
  },
  {
   "cell_type": "code",
   "execution_count": 290,
   "metadata": {},
   "outputs": [
    {
     "data": {
      "text/html": [
       "<div>\n",
       "<style scoped>\n",
       "    .dataframe tbody tr th:only-of-type {\n",
       "        vertical-align: middle;\n",
       "    }\n",
       "\n",
       "    .dataframe tbody tr th {\n",
       "        vertical-align: top;\n",
       "    }\n",
       "\n",
       "    .dataframe thead th {\n",
       "        text-align: right;\n",
       "    }\n",
       "</style>\n",
       "<table border=\"1\" class=\"dataframe\">\n",
       "  <thead>\n",
       "    <tr style=\"text-align: right;\">\n",
       "      <th></th>\n",
       "      <th>Features</th>\n",
       "      <th>VIF</th>\n",
       "    </tr>\n",
       "  </thead>\n",
       "  <tbody>\n",
       "    <tr>\n",
       "      <th>0</th>\n",
       "      <td>realPersInc</td>\n",
       "      <td>1.723912</td>\n",
       "    </tr>\n",
       "    <tr>\n",
       "      <th>1</th>\n",
       "      <td>unempRate</td>\n",
       "      <td>2.435666</td>\n",
       "    </tr>\n",
       "    <tr>\n",
       "      <th>2</th>\n",
       "      <td>indProd</td>\n",
       "      <td>2.242862</td>\n",
       "    </tr>\n",
       "    <tr>\n",
       "      <th>3</th>\n",
       "      <td>retailSales</td>\n",
       "      <td>2.094585</td>\n",
       "    </tr>\n",
       "    <tr>\n",
       "      <th>4</th>\n",
       "      <td>Country_Denmark</td>\n",
       "      <td>1.166142</td>\n",
       "    </tr>\n",
       "    <tr>\n",
       "      <th>5</th>\n",
       "      <td>Country_France</td>\n",
       "      <td>1.891253</td>\n",
       "    </tr>\n",
       "    <tr>\n",
       "      <th>6</th>\n",
       "      <td>Country_Germany</td>\n",
       "      <td>1.134902</td>\n",
       "    </tr>\n",
       "    <tr>\n",
       "      <th>7</th>\n",
       "      <td>Country_Japan</td>\n",
       "      <td>1.186148</td>\n",
       "    </tr>\n",
       "    <tr>\n",
       "      <th>8</th>\n",
       "      <td>Country_Korea</td>\n",
       "      <td>1.977866</td>\n",
       "    </tr>\n",
       "    <tr>\n",
       "      <th>9</th>\n",
       "      <td>Country_Luxembourg</td>\n",
       "      <td>1.411761</td>\n",
       "    </tr>\n",
       "    <tr>\n",
       "      <th>10</th>\n",
       "      <td>Country_Netherlands</td>\n",
       "      <td>1.118034</td>\n",
       "    </tr>\n",
       "    <tr>\n",
       "      <th>11</th>\n",
       "      <td>Country_UK</td>\n",
       "      <td>1.036900</td>\n",
       "    </tr>\n",
       "    <tr>\n",
       "      <th>12</th>\n",
       "      <td>Country_USA</td>\n",
       "      <td>1.026931</td>\n",
       "    </tr>\n",
       "  </tbody>\n",
       "</table>\n",
       "</div>"
      ],
      "text/plain": [
       "               Features       VIF\n",
       "0           realPersInc  1.723912\n",
       "1             unempRate  2.435666\n",
       "2               indProd  2.242862\n",
       "3           retailSales  2.094585\n",
       "4       Country_Denmark  1.166142\n",
       "5        Country_France  1.891253\n",
       "6       Country_Germany  1.134902\n",
       "7         Country_Japan  1.186148\n",
       "8         Country_Korea  1.977866\n",
       "9    Country_Luxembourg  1.411761\n",
       "10  Country_Netherlands  1.118034\n",
       "11           Country_UK  1.036900\n",
       "12          Country_USA  1.026931"
      ]
     },
     "execution_count": 290,
     "metadata": {},
     "output_type": "execute_result"
    }
   ],
   "source": [
    "################ EDIT CODE LINES HERE #################\n",
    "from statsmodels.stats.outliers_influence import variance_inflation_factor\n",
    "VIF = [variance_inflation_factor(OECD.loc[:, FEATURES].values, i) for i in range(len(FEATURES))]\n",
    "VIF_table = pd.DataFrame({'Features': FEATURES, 'VIF': VIF})\n",
    "VIF_table   \n",
    "# The following values indicate that there's a moderate correlation among all the features, not a high correlation. \n",
    "# All of the Features have a VIF value of 1-5.\n",
    "######################################################"
   ]
  },
  {
   "cell_type": "markdown",
   "metadata": {},
   "source": [
    "e) Please wirte a code piece to fit a multiple linear regression to the data, then print the resulting Adjusted R-squared, MAE, and RMSE metrics. "
   ]
  },
  {
   "cell_type": "code",
   "execution_count": 291,
   "metadata": {},
   "outputs": [
    {
     "name": "stdout",
     "output_type": "stream",
     "text": [
      "The Adjusted R-squared is:  -0.00016040239222148145\n",
      "The MAE is:  0.0011117728989690704\n",
      "The RMSE is:  0.0015994744800071979\n"
     ]
    },
    {
     "data": {
      "text/plain": [
       "0.0027112473789762683"
      ]
     },
     "execution_count": 291,
     "metadata": {},
     "output_type": "execute_result"
    }
   ],
   "source": [
    "################ EDIT CODE LINES HERE #################\n",
    "linear_model = LinearRegression()\n",
    "#fit regression model\n",
    "linear_model = linear_model.fit(X_train, y_train)\n",
    "from sklearn.metrics import mean_absolute_error, mean_squared_error, r2_score\n",
    "\n",
    "y_test_pred = linear_model.predict(X_test)\n",
    "r2 = r2_score(y_test, y_test_pred)\n",
    "mae = mean_absolute_error(y_test, y_test_pred)\n",
    "rmse = mean_squared_error(y_test, y_test_pred, squared=False)\n",
    "\n",
    "print('The Adjusted R-squared is: ', 1-(1-r2)*(OECD.shape[0]-1)/(OECD.shape[0]-len(FEATURES)-1))\n",
    "print('The MAE is: ', mae)\n",
    "print('The RMSE is: ', rmse)\n",
    "mae +rmse\n",
    "######################################################"
   ]
  },
  {
   "cell_type": "markdown",
   "metadata": {},
   "source": [
    "f) Please wirte a code piece to fit a ridge regression to the data, then print the resulting Adjusted R-squared, MAE, and RMSE metrics."
   ]
  },
  {
   "cell_type": "code",
   "execution_count": 292,
   "metadata": {},
   "outputs": [
    {
     "name": "stdout",
     "output_type": "stream",
     "text": [
      "The Adjusted R-squared is:  -0.0011210804926706786\n",
      "The MAE is:  0.0011116109555797656\n",
      "The RMSE is:  0.0016002424624718444\n"
     ]
    },
    {
     "data": {
      "text/plain": [
       "0.00271185341805161"
      ]
     },
     "execution_count": 292,
     "metadata": {},
     "output_type": "execute_result"
    }
   ],
   "source": [
    "################ EDIT CODE LINES HERE #################\n",
    "from sklearn.linear_model import RidgeCV\n",
    "# initiate the 5-Fold cross validation \n",
    "ridge_model = RidgeCV(cv=5, scoring='r2')\n",
    "# fit the model with the best alpha\n",
    "ridge_model = ridge_model.fit(X_train, y_train)\n",
    "y_test_pred_ridge = ridge_model.predict(X_test)\n",
    "r2_ridge = r2_score(y_test, y_test_pred_ridge)\n",
    "mae_ridge = mean_absolute_error(y_test, y_test_pred_ridge)\n",
    "rmse_ridge = mean_squared_error(y_test, y_test_pred_ridge, squared=False)\n",
    "# printing model metrics\n",
    "print('The Adjusted R-squared is: ', 1-(1-r2_ridge)*(OECD.shape[0]-1)/(OECD.shape[0]-len(FEATURES)-1))\n",
    "print('The MAE is: ', mae_ridge)\n",
    "print('The RMSE is: ', rmse_ridge)\n",
    "mae_ridge+rmse_ridge\n",
    "######################################################"
   ]
  },
  {
   "cell_type": "markdown",
   "metadata": {},
   "source": [
    "g) Please wirte a code piece to fit a lasso regression to the data, then print the resulting Adjusted R-squared, MAE, and RMSE metrics."
   ]
  },
  {
   "cell_type": "code",
   "execution_count": 293,
   "metadata": {},
   "outputs": [
    {
     "name": "stdout",
     "output_type": "stream",
     "text": [
      "The Adjusted R-squared is:  -0.0016100473091211764\n",
      "The MAE is:  0.0011125699424768829\n",
      "The RMSE is:  0.0016006332093845773\n"
     ]
    },
    {
     "data": {
      "text/plain": [
       "0.00271320315186146"
      ]
     },
     "execution_count": 293,
     "metadata": {},
     "output_type": "execute_result"
    }
   ],
   "source": [
    "################ EDIT CODE LINES HERE #################\n",
    "from sklearn.linear_model import LassoCV\n",
    "# initiate 5-Fold cross validation \n",
    "lasso_model = LassoCV(cv=5) # uses scoring='r2'by default\n",
    "# fit the model with the best alpha\n",
    "lasso_model = lasso_model.fit(X_train, y_train)\n",
    "y_test_pred_lasso = lasso_model.predict(X_test)\n",
    "r2_lasso = r2_score(y_test, y_test_pred_lasso)\n",
    "mae_lasso = mean_absolute_error(y_test, y_test_pred_lasso)\n",
    "rmse_lasso = mean_squared_error(y_test, y_test_pred_lasso, squared=False)\n",
    "\n",
    "# printing model metrics\n",
    "print('The Adjusted R-squared is: ', 1-(1-r2_lasso)*(OECD.shape[0]-1)/(OECD.shape[0]-len(FEATURES)-1))\n",
    "print('The MAE is: ', mae_lasso)\n",
    "print('The RMSE is: ', rmse_lasso)\n",
    "mae_lasso +rmse_lasso\n",
    "######################################################"
   ]
  },
  {
   "cell_type": "markdown",
   "metadata": {},
   "source": [
    "h) Compare the three models you just fitted. Which one turns out to be the best and why? (Hint: since we included 9 dummy variables in the model that are not as significant, we may be overfitting, hence leading to a negative adjusted R-squared. You can ignore the adjusted R-squared if this happends, and just compare the MAE and RMSE.)"
   ]
  },
  {
   "cell_type": "markdown",
   "metadata": {},
   "source": [
    "Fix the wording of the usage of MAE and RMSE\n",
    "\n",
    "\n",
    "All three of our models result in a negative adjusted R-squared value which suggests that there is overfitting in all three of these multiple linear regression models. Overfitting occurs when the model is overly complex and there are too many parameters compared to the amount of observations. Overfitted models have low bias and high variance. Since there are negative adjusted R-squared values, we should not pay attention the values itself, but use the mean absolute error(MAE) and root mean standard error(RMSE) to see which regression model best fits the data. The Lasso regression model seems to be the worst model out of the three as it has the highest MAE and RMSE with values of 0.0011126 and 0.0016006 respectively. This shows that it has the largest magnitude of prediction errors and the highest standard error. The last two regression models that we have to analyze are the multiple linear regression model and the ridge regression. The ridge regression model has the lower mean absolute error wiht a value of 0.0011116. The multiple linear regression model has the lower root mean standard error with a value of 0.00159947. Both of these errors are good predictors for average errors of different models. In this case, we would want to analyze the RMSE more since it puts more weight on large errors. We know this because in the formula, the errors are squared before they are averaged. Due to this, it is better to use the Multiple Linear Regression Model as it has the lower root mean standard error.  \n",
    "\n",
    "The Multiple Linear Regression Model is the best model to use out of the three types of regression models. This model overfits the dataset the least as compared to ridge regression and lasso regression. We have a negative Adjusted R-squared value which implies that there is overfitting in this model. On average, the distances of the predicted returns for the growth rate of Real GDP from their actual observations is 0.0011117728989690704. The square root of the average of squared differences of the growth rate of Real GDP predictions and their actual observations is 0.0015994744800071979."
   ]
  },
  {
   "cell_type": "markdown",
   "metadata": {},
   "source": [
    "i) Based on the model you selected, write a code piece that prints the intercept and coefficient estimates, then write out the formula based on the printed output."
   ]
  },
  {
   "cell_type": "markdown",
   "metadata": {},
   "source": [
    "We used multiple linear regression as we figured that it was relatively the strongest model for predicting the real GDP growth rate."
   ]
  },
  {
   "cell_type": "code",
   "execution_count": 294,
   "metadata": {},
   "outputs": [
    {
     "name": "stdout",
     "output_type": "stream",
     "text": [
      "intercept:  -0.0002038638395117495\n",
      "coefficients:  [ 1.05993564e-04  3.74296397e-04  2.19173918e-04  1.88501122e-05\n",
      "  8.18097003e-05 -4.74259565e-04 -5.29082145e-05  3.77789866e-04\n",
      "  9.39144404e-04  3.24067560e-04  2.02917379e-04  9.73525532e-05\n",
      "  2.50596174e-04]\n"
     ]
    }
   ],
   "source": [
    "################ EDIT CODE LINES HERE #################\n",
    "print('intercept: ', linear_model.intercept_)\n",
    "print('coefficients: ', linear_model.coef_)\n",
    "################ EDIT CODE LINES HERE #################"
   ]
  },
  {
   "cell_type": "markdown",
   "metadata": {},
   "source": [
    "The formula for predicting the real GDP Growth rate would be:\n",
    "y-hat = -0.0002038638395117495 + 1.05993564e-04(Real Personal Income) +3.74296397e-04(Unemployment Rate) +2.19173918e-04(Industrial Production) +       1.88501122e-05(Retail Sales) + 8.18097003e-05(Denmark is the country) -4.74259565e-04(France is the country) -5.29082145e-05(Germany is the country) +  3.77789866e-04(Japan is the country) +9.39144404e-04(Korea is the country) + 3.24067560e-04(Luxembourg is the country) + 2.02917379e-04 (Netherlands is the country) + 9.73525532e-05(UK is the country) + 2.50596174e-04(United States is the Country)\n",
    "\n",
    "where y-hat is equal to the Predicted real GDP Growth Rate"
   ]
  },
  {
   "cell_type": "markdown",
   "metadata": {},
   "source": [
    "j) What can be don't to improve the Adjusted $R^2$ ?"
   ]
  },
  {
   "cell_type": "markdown",
   "metadata": {},
   "source": [
    "In this scenario, there is low bias and high variance resulting in overfitting of a graph. To improve the adjusted R-squared we can increase our training set and decrease our testing set. This will ultimately increase our Adjusted R^2 value as there would be an increase in the amount of data that is to be tested on. Another way to improve the Adjusted R^2 value is to just increase the sample size. If more data is collected, our model has more data to be trained and tested on improving the model. Another way to improve this adjusted R^2 value is to reduce the amount of features that are used. Examples of removable features are variables that have almost no impact on the response variable. If we remove the right features, R^2 value would fit better and not overfit the data. "
   ]
  }
 ],
 "metadata": {
  "kernelspec": {
   "display_name": "Python 3.10.2 64-bit",
   "language": "python",
   "name": "python3"
  },
  "language_info": {
   "codemirror_mode": {
    "name": "ipython",
    "version": 3
   },
   "file_extension": ".py",
   "mimetype": "text/x-python",
   "name": "python",
   "nbconvert_exporter": "python",
   "pygments_lexer": "ipython3",
   "version": "3.10.2"
  },
  "toc": {
   "base_numbering": 1,
   "nav_menu": {},
   "number_sections": true,
   "sideBar": true,
   "skip_h1_title": true,
   "title_cell": "Table of Contents",
   "title_sidebar": "Contents",
   "toc_cell": false,
   "toc_position": {},
   "toc_section_display": true,
   "toc_window_display": true
  },
  "vscode": {
   "interpreter": {
    "hash": "aee8b7b246df8f9039afb4144a1f6fd8d2ca17a180786b69acc140d282b71a49"
   }
  }
 },
 "nbformat": 4,
 "nbformat_minor": 2
}
